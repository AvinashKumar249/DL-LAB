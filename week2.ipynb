{
 "cells": [
  {
   "cell_type": "code",
   "execution_count": 19,
   "id": "11d12a9a-9700-4c93-bf28-a3175d35e595",
   "metadata": {},
   "outputs": [],
   "source": [
    "import torch"
   ]
  },
  {
   "cell_type": "code",
   "execution_count": 20,
   "id": "ec958ec1-cd3f-46e3-bcd3-c16b553b9318",
   "metadata": {},
   "outputs": [],
   "source": [
    "a=torch.tensor(3.0,requires_grad=True)\n",
    "b=torch.tensor(4.0,requires_grad=True)\n",
    "x=2*a+3*b\n",
    "y=5*a*a+3*b*b*b\n",
    "z=2*x+3*y\n"
   ]
  },
  {
   "cell_type": "code",
   "execution_count": 21,
   "id": "4922d947-c940-4aa0-9594-87141281486f",
   "metadata": {},
   "outputs": [
    {
     "name": "stdout",
     "output_type": "stream",
     "text": [
      "94.0\n",
      "94.0\n"
     ]
    }
   ],
   "source": [
    "z.backward()\n",
    "#Analytical\n",
    "dz_da=4+30*a\n",
    "#printing\n",
    "print(dz_da.item())\n",
    "print(a.grad.item())"
   ]
  },
  {
   "cell_type": "code",
   "execution_count": 66,
   "id": "7a17dddd-c90a-43c8-85e2-244ca421a455",
   "metadata": {},
   "outputs": [],
   "source": [
    "#Q2\n",
    "def relu(v):\n",
    "    return max(0,v)"
   ]
  },
  {
   "cell_type": "code",
   "execution_count": 67,
   "id": "e9c36762-8910-464a-b638-7414cf67b161",
   "metadata": {},
   "outputs": [
    {
     "name": "stdout",
     "output_type": "stream",
     "text": [
      "1.0\n",
      "1.0\n"
     ]
    }
   ],
   "source": [
    "b=torch.tensor(3.0,requires_grad=True)\n",
    "x=torch.tensor(1.0,requires_grad=True)\n",
    "w=torch.tensor(5.0,requires_grad=True)\n",
    "u=w*x\n",
    "v=u+b\n",
    "a=relu(v)\n",
    "a.backward()\n",
    "#analytically\n",
    "da_dv=1*1*x\n",
    "print(w.grad.item())\n",
    "print(da_dv.item())"
   ]
  },
  {
   "cell_type": "code",
   "execution_count": 71,
   "id": "57687718-ee42-4c70-908a-4c0d4c95c131",
   "metadata": {},
   "outputs": [],
   "source": [
    "#Q3\n",
    "def sigmoid(v):\n",
    "    return 1.0/(1.0+torch.exp(-v))"
   ]
  },
  {
   "cell_type": "code",
   "execution_count": 101,
   "id": "655d5c9f-ea1f-49a6-b776-ee00f8587e78",
   "metadata": {},
   "outputs": [
    {
     "name": "stdout",
     "output_type": "stream",
     "text": [
      "0.001820442616008222\n"
     ]
    }
   ],
   "source": [
    "b=torch.tensor(1.0,requires_grad=True)\n",
    "x=torch.tensor(2.0,requires_grad=True)\n",
    "w=torch.tensor(3.0,requires_grad=True)\n",
    "u=w*x\n",
    "v=u+b\n",
    "a=sigmoid(v)\n",
    "a.backward()\n",
    "#analytically\n",
    "da_dv=torch.exp(-v)/(1+torch.exp(-v))**2\n",
    "print(w.grad.item())\n",
    "#print(da_dv.item())"
   ]
  },
  {
   "cell_type": "code",
   "execution_count": 79,
   "id": "caf56934-5a57-40c9-8b50-834e77fd7398",
   "metadata": {},
   "outputs": [],
   "source": [
    "#Q4\n",
    "import math"
   ]
  },
  {
   "cell_type": "code",
   "execution_count": 102,
   "id": "827e0c90-7758-41c3-b07a-033a78c80f4d",
   "metadata": {},
   "outputs": [
    {
     "name": "stdout",
     "output_type": "stream",
     "text": [
      "-3.0\n"
     ]
    }
   ],
   "source": [
    "x=torch.tensor(0.0,requires_grad=True)\n",
    "a=x*x\n",
    "b=2*x\n",
    "c=torch.sin(x)\n",
    "f=torch.exp(-a-b-c)\n",
    "f.backward()\n",
    "dz_da = (-2*x-2-torch.cos(x))*torch.exp(-x**2-2*x-torch.sin(x))\n",
    "print(x.grad.item())\n",
    "#print(dz_da)"
   ]
  },
  {
   "cell_type": "code",
   "execution_count": 81,
   "id": "fc920eea-a0ed-4ba3-96ed-59ead255ac56",
   "metadata": {},
   "outputs": [],
   "source": [
    "#Q5"
   ]
  },
  {
   "cell_type": "code",
   "execution_count": 103,
   "id": "7dfc15fd-983c-4b9a-82c0-3e890807a093",
   "metadata": {
    "scrolled": true
   },
   "outputs": [
    {
     "name": "stdout",
     "output_type": "stream",
     "text": [
      "tensor(6.)\n"
     ]
    }
   ],
   "source": [
    "x=torch.tensor(0.0,requires_grad=True)\n",
    "y=8*x**4+3*x**3+7*x**2+6*x+3\n",
    "y.backward()\n",
    "print(x.grad)\n",
    "dy_dx = 32*x**3+9*x**2+14*x+6\n",
    "#print(dy_dx)"
   ]
  },
  {
   "cell_type": "code",
   "execution_count": 93,
   "id": "37be2284-44e6-42df-bfdb-f57375c7fdf3",
   "metadata": {},
   "outputs": [],
   "source": [
    "#Q6"
   ]
  },
  {
   "cell_type": "code",
   "execution_count": 104,
   "id": "b78b39f9-d61a-4e3a-b9df-4d59da5c1329",
   "metadata": {},
   "outputs": [
    {
     "name": "stdout",
     "output_type": "stream",
     "text": [
      "tensor(-0.1340)\n"
     ]
    }
   ],
   "source": [
    "x=torch.tensor(1.0,requires_grad=True)\n",
    "y=torch.tensor(1.0,requires_grad=True)\n",
    "z=torch.tensor(1.0,requires_grad=True)\n",
    "a=2*x\n",
    "b=torch.sin(y)\n",
    "c=a/b\n",
    "d=c*z\n",
    "e=torch.log(d+1)\n",
    "f=torch.tanh(e)\n",
    "f.backward()\n",
    "print(y.grad)\n",
    "#analytically\n",
    "dz_dy = (1-(torch.tanh(e))**2)*(1/(d+1))*z*(1/b)*2\n",
    "#print(dz_dy)"
   ]
  },
  {
   "cell_type": "code",
   "execution_count": null,
   "id": "0c6c0e86-9f63-4927-942b-fcf20d1bbe5c",
   "metadata": {},
   "outputs": [],
   "source": []
  }
 ],
 "metadata": {
  "kernelspec": {
   "display_name": "Python 3 (ipykernel)",
   "language": "python",
   "name": "python3"
  },
  "language_info": {
   "codemirror_mode": {
    "name": "ipython",
    "version": 3
   },
   "file_extension": ".py",
   "mimetype": "text/x-python",
   "name": "python",
   "nbconvert_exporter": "python",
   "pygments_lexer": "ipython3",
   "version": "3.11.7"
  }
 },
 "nbformat": 4,
 "nbformat_minor": 5
}
