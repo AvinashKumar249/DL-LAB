{
 "cells": [
  {
   "cell_type": "code",
   "execution_count": 1,
   "id": "83c5dde8-5872-4331-965a-682ae43190f5",
   "metadata": {},
   "outputs": [],
   "source": [
    "import torch\n",
    "from matplotlib import pyplot as plt\n",
    "from torch.utils.data import Dataset, DataLoader\n",
    "import torch.nn as nn\n",
    "import numpy as np"
   ]
  },
  {
   "cell_type": "code",
   "execution_count": 2,
   "id": "bd6e2441-cca2-4747-8ff5-15cc1c5ecbbe",
   "metadata": {},
   "outputs": [],
   "source": [
    "loss_list = []\n",
    "torch.manual_seed(42)\n",
    "X = torch.tensor([[0,0],[0,1],[1,0],[1,1]],dtype=torch.float32)\n",
    "Y = torch.tensor([0,1,1,0],dtype=torch.float32)\n"
   ]
  },
  {
   "cell_type": "code",
   "execution_count": 3,
   "id": "0503de58-2a98-4e03-aa88-1d27cdb2f7c6",
   "metadata": {},
   "outputs": [],
   "source": [
    "class XORModel(nn.Module):\n",
    "    def __init__(self):\n",
    "        super(XORModel,self).__init__()\n",
    "\n",
    "\n",
    "        self.linear1 = nn.Linear(2,2,bias=True)\n",
    "        self.activation1 = nn.Sigmoid()\n",
    "        self.linear2 = nn.Linear(2,1,bias=True)\n",
    "    def forward(self,x):\n",
    "        x = self.linear1(x)\n",
    "        x = self.activation1(x)\n",
    "        x = self.linear2(x)\n",
    "        return x\n",
    "\n",
    "class MyDataset(Dataset):\n",
    "    def __init__(self,X,Y):\n",
    "        self.X = X\n",
    "        self.Y = Y\n",
    "    def __len__(self):\n",
    "        return len(self.X)\n",
    "    def __getitem__(self, idx):\n",
    "        return self.X[idx].to(device), self.Y[idx].to(device)"
   ]
  },
  {
   "cell_type": "code",
   "execution_count": 4,
   "id": "c7177053-db1e-438c-9f89-aa635e29647d",
   "metadata": {},
   "outputs": [
    {
     "name": "stdout",
     "output_type": "stream",
     "text": [
      "XORModel(\n",
      "  (linear1): Linear(in_features=2, out_features=2, bias=True)\n",
      "  (activation1): Sigmoid()\n",
      "  (linear2): Linear(in_features=2, out_features=1, bias=True)\n",
      ")\n"
     ]
    }
   ],
   "source": [
    "full_dataset = MyDataset(X,Y)\n",
    "batch_size = 1\n",
    "train_data_loader = DataLoader(full_dataset, batch_size = batch_size, shuffle=True)\n",
    "device = torch.device(\"cuda\" if torch.cuda.is_available() else \"cpu\")\n",
    "model = XORModel().to(device)\n",
    "print(model)\n",
    "loss_fn = torch.nn.MSELoss()\n",
    "optimizer = torch.optim.SGD(model.parameters(),lr=0.03)\n"
   ]
  },
  {
   "cell_type": "code",
   "execution_count": 5,
   "id": "a7ca38d4-13cd-4d0f-a185-ae7a2ec32220",
   "metadata": {},
   "outputs": [
    {
     "name": "stdout",
     "output_type": "stream",
     "text": [
      "Epoch 0/10000, loss: 0.301132844761014\n",
      "Epoch 1000/10000, loss: 0.27038102224469185\n",
      "Epoch 2000/10000, loss: 0.27022553235292435\n",
      "Epoch 3000/10000, loss: 0.26847536861896515\n",
      "Epoch 4000/10000, loss: 0.26516806334257126\n",
      "Epoch 5000/10000, loss: 0.22409657016396523\n",
      "Epoch 6000/10000, loss: 0.0001402673997290549\n",
      "Epoch 7000/10000, loss: 1.2700951401711791e-11\n",
      "Epoch 8000/10000, loss: 3.2152058793144533e-12\n",
      "Epoch 9000/10000, loss: 3.0020430585864233e-12\n"
     ]
    }
   ],
   "source": [
    "epochs = 10000\n",
    "def train_one_epoch(epoch_index):\n",
    "    totalloss = 0\n",
    "    for i,data in enumerate(train_data_loader):\n",
    "        inputs,labels = data\n",
    "        optimizer.zero_grad()\n",
    "        outputs = model(inputs)\n",
    "        loss = loss_fn(outputs.flatten(),labels)\n",
    "        loss.backward()\n",
    "        optimizer.step()\n",
    "        totalloss += loss.item()\n",
    "    return totalloss/(len(train_data_loader)*batch_size)\n",
    "\n",
    "for epoch in range(epochs):\n",
    "    model.train(True)\n",
    "    avg_loss = train_one_epoch(epoch)\n",
    "    loss_list.append(avg_loss)\n",
    "    if epoch%1000 == 0:\n",
    "        print(f'Epoch {epoch}/{epochs}, loss: {avg_loss}')\n"
   ]
  },
  {
   "cell_type": "code",
   "execution_count": 6,
   "id": "288293d0-b6bd-4a8e-8dac-27d5c4ff0fff",
   "metadata": {},
   "outputs": [
    {
     "name": "stdout",
     "output_type": "stream",
     "text": [
      "('linear1.weight', Parameter containing:\n",
      "tensor([[-1.9767,  2.0750],\n",
      "        [-3.0809,  3.3435]], device='cuda:0', requires_grad=True))\n",
      "('linear1.bias', Parameter containing:\n",
      "tensor([ 0.7012, -2.5002], device='cuda:0', requires_grad=True))\n",
      "('linear2.weight', Parameter containing:\n",
      "tensor([[-2.6653,  2.7713]], device='cuda:0', requires_grad=True))\n",
      "('linear2.bias', Parameter containing:\n",
      "tensor([1.5715], device='cuda:0', requires_grad=True))\n",
      "The input is = tensor([0., 1.], device='cuda:0')\n",
      "Output y is predicted = tensor([1.0000], device='cuda:0', grad_fn=<ViewBackward0>)\n"
     ]
    },
    {
     "data": {
      "image/png": "[encoded data removed]",
      "text/plain": [
       "<Figure size 640x480 with 1 Axes>"
      ]
     },
     "metadata": {},
     "output_type": "display_data"
    }
   ],
   "source": [
    "http://127.0.0.1:8000/for param in model.named_parameters():\n",
    "    print(param)\n",
    "input = torch.tensor([0,1], dtype=torch.float32).to(device)\n",
    "model.eval()\n",
    "print(\"The input is = {}\".format(input))\n",
    "print(\"Output y is predicted = {}\".format(model(input)))\n",
    "plt.plot(loss_list)\n",
    "plt.show()"
   ]
  },
  {
   "cell_type": "code",
   "execution_count": 7,
   "id": "de864673-df61-4ea8-aa89-9b2c306e1046",
   "metadata": {},
   "outputs": [],
   "source": [
    "#Q2"
   ]
  },
  {
   "cell_type": "code",
   "execution_count": 8,
   "id": "9ac8a43f-e469-45ff-8823-621c4aeaa45f",
   "metadata": {},
   "outputs": [
    {
     "name": "stdout",
     "output_type": "stream",
     "text": [
      "XORModel(\n",
      "  (linear1): Linear(in_features=2, out_features=2, bias=True)\n",
      "  (activation1): ReLU()\n",
      "  (linear2): Linear(in_features=2, out_features=1, bias=True)\n",
      ")\n"
     ]
    }
   ],
   "source": [
    "loss_list = []\n",
    "torch.manual_seed(42)\n",
    "X = torch.tensor([[0,0],[0,1],[1,0],[1,1]],dtype=torch.float32)\n",
    "Y = torch.tensor([0,1,1,0],dtype=torch.float32)\n",
    "class XORModel(nn.Module):\n",
    "    def __init__(self):\n",
    "        super(XORModel,self).__init__()\n",
    "\n",
    "\n",
    "        self.linear1 = nn.Linear(2,2,bias=True)\n",
    "        self.activation1 = nn.ReLU()\n",
    "        self.linear2 = nn.Linear(2,1,bias=True)\n",
    "    def forward(self,x):\n",
    "        x = self.linear1(x)\n",
    "        x = self.activation1(x)\n",
    "        x = self.linear2(x)\n",
    "        return x\n",
    "    def sigmoid(x):\n",
    "        return 1.0/(1+torch.exp(-x))\n",
    "       \n",
    "        \n",
    "\n",
    "class MyDataset(Dataset):\n",
    "    def __init__(self,X,Y):\n",
    "        self.X = X\n",
    "        self.Y = Y\n",
    "    def __len__(self):\n",
    "        return len(self.X)\n",
    "    def __getitem__(self, idx):\n",
    "        return self.X[idx].to(device), self.Y[idx].to(device)\n",
    "full_dataset = MyDataset(X,Y)\n",
    "batch_size = 1\n",
    "train_data_loader = DataLoader(full_dataset, batch_size = batch_size, shuffle=True)\n",
    "device = torch.device(\"cuda\" if torch.cuda.is_available() else \"cpu\")\n",
    "model = XORModel().to(device)\n",
    "print(model)\n",
    "loss_fn = torch.nn.MSELoss()\n",
    "optimizer = torch.optim.SGD(model.parameters(),lr=0.03)\n",
    "\n"
   ]
  },
  {
   "cell_type": "code",
   "execution_count": 9,
   "id": "cd1dadf5-8c45-44b6-8720-c6df3bc27e2a",
   "metadata": {},
   "outputs": [
    {
     "name": "stdout",
     "output_type": "stream",
     "text": [
      "Epoch 0/10000, loss: 0.28828215412795544\n",
      "Epoch 1000/10000, loss: 0.13222978546400554\n",
      "Epoch 2000/10000, loss: 0.13277034627981266\n",
      "Epoch 3000/10000, loss: 0.13273568680347125\n",
      "Epoch 4000/10000, loss: 0.13273096554848962\n",
      "Epoch 5000/10000, loss: 0.1327835510719524\n",
      "Epoch 6000/10000, loss: 0.1328371121908276\n",
      "Epoch 7000/10000, loss: 0.13272638581878482\n",
      "Epoch 8000/10000, loss: 0.13273535281267357\n",
      "Epoch 9000/10000, loss: 0.1324844262948659\n",
      "('linear1.weight', Parameter containing:\n",
      "tensor([[ 0.6139,  0.6554],\n",
      "        [-0.6774,  0.6844]], device='cuda:0', requires_grad=True))\n",
      "('linear1.bias', Parameter containing:\n",
      "tensor([-0.6271, -0.0178], device='cuda:0', requires_grad=True))\n",
      "('linear2.weight', Parameter containing:\n",
      "tensor([[-0.7764,  0.7782]], device='cuda:0', requires_grad=True))\n",
      "('linear2.bias', Parameter containing:\n",
      "tensor([0.4958], device='cuda:0', requires_grad=True))\n",
      "The input is = tensor([0., 1.], device='cuda:0')\n",
      "Output y is predicted = tensor([0.9926], device='cuda:0', grad_fn=<ViewBackward0>)\n"
     ]
    },
    {
     "data": {
      "image/png": "[encoded data removed]",
      "text/plain": [
       "<Figure size 640x480 with 1 Axes>"
      ]
     },
     "metadata": {},
     "output_type": "display_data"
    }
   ],
   "source": [
    "\n",
    "    As the forward computation is performed, the graph is implicitly defined.\n",
    "    This graph has the advantage of being more adaptable. The library is less intrusive and enables interleaved graph generation and evaluation. The forward computation is implemented in your preferred programming language, complete with all of its features and algorithms. Debugging dynamic graphs is simple. Because it permits line-by-line execution of the code and access to all variables, finding bugs in your code is considerably easier. If you want to employ Deep Learning for any genuine purpose in the industry, this is a must-have feature.\n",
    "    The disadvantage of employing this graph is that there is limited time for graph optimization, and the effort may be wasted if the graph does not change.\n",
    "epochs = 10000\n",
    "def train_one_epoch(epoch_index):\n",
    "    totalloss = 0\n",
    "    for i,data in enumerate(train_data_loader):\n",
    "        inputs,labels = data\n",
    "        optimizer.zero_grad()\n",
    "        outputs = model(inputs)\n",
    "        loss = loss_fn(outputs.flatten(),labels)\n",
    "        loss.backward()\n",
    "        optimizer.step()\n",
    "        totalloss += loss.item()\n",
    "    return totalloss/(len(train_data_loader)*batch_size)\n",
    "\n",
    "for epoch in range(epochs):\n",
    "    model.train(True)\n",
    "    avg_loss = train_one_epoch(epoch)\n",
    "    loss_list.append(avg_loss)\n",
    "    if epoch%1000 == 0:\n",
    "        print(f'Epoch {epoch}/{epochs}, loss: {avg_loss}')\n",
    "for param in model.named_parameters():\n",
    "    print(param)\n",
    "input = torch.tensor([0,1], dtype=torch.float32).to(device)\n",
    "model.eval()\n",
    "print(\"The input is = {}\".format(input))\n",
    "print(\"Output y is predicted = {}\".format(model(input)))\n",
    "plt.plot(loss_list)\n",
    "plt.show()"
   ]
  },
  {
   "cell_type": "code",
   "execution_count": 11,
   "id": "5f4503c8-84aa-4249-a8a7-4a3c363f932f",
   "metadata": {},
   "outputs": [
    {
     "name": "stdout",
     "output_type": "stream",
     "text": [
      "Manually computed output for tensor([[0., 1.]]): tensor([[0.8017]])\n"
     ]
    },
    {
     "data": {
      "image/png": "[encoded data removed]",
      "text/plain": [
       "<Figure size 640x480 with 1 Axes>"
      ]
     },
     "metadata": {},
     "output_type": "display_data"
    }
   ],
   "source": [
    "#Q3\n",
    "import torch\n",
    "import matplotlib.pyplot as plt \n",
    "import numpy as np\n",
    "from torch import nn \n",
    "\n",
    "weight1 = torch.tensor([[1.0, -1.0], [2.0, -2.0]], dtype=torch.float32)\n",
    "bias1 = torch.tensor([0.5, -0.5], dtype=torch.float32)\n",
    "weight2 = torch.tensor([[1.0], [-1.0]], dtype=torch.float32)\n",
    "bias2 = torch.tensor([0.5], dtype=torch.float32)\n",
    "\n",
    "\n",
    "class XORModel(nn.Module):\n",
    "    def __init__(self):\n",
    "        super().__init__()\n",
    "        self.linear1 = nn.Linear(in_features=2, out_features=2, bias=True)\n",
    "        self.linear1.weight.data = weight1\n",
    "        self.linear1.bias.data = bias1\n",
    "        self.activation1 = nn.Sigmoid()\n",
    "        self.linear2 = nn.Linear(in_features=2, out_features=1, bias=True)\n",
    "        self.linear2.weight.data = weight2\n",
    "        self.linear2.bias.data = bias2\n",
    "    \n",
    "    def forward(self, x):\n",
    "        x = self.linear1(x)\n",
    "        x = self.activation1(x)\n",
    "        x = self.linear2(x)\n",
    "        return x\n",
    "\n",
    "\n",
    "X = torch.tensor([[0, 1]], dtype=torch.float32)\n",
    "linear1_output = torch.matmul(X, weight1.t()) + bias1\n",
    "activation_output = torch.sigmoid(linear1_output)\n",
    "final_output = torch.matmul(activation_output, weight2) + bias2  # No need to transpose weight2\n",
    "print(f\"Manually computed output for {X}: {final_output}\")\n",
    "plt.plot(loss_list)\n",
    "plt.show()"
   ]
  },
  {
   "cell_type": "code",
   "execution_count": 14,
   "id": "f5caea78-539a-42fd-80ff-846b68e87166",
   "metadata": {},
   "outputs": [
    {
     "ename": "AttributeError",
     "evalue": "'_SingleProcessDataLoaderIter' object has no attribute 'next'",
     "output_type": "error",
     "traceback": [
      "\u001b[0;31m---------------------------------------------------------------------------\u001b[0m",
      "\u001b[0;31mAttributeError\u001b[0m                            Traceback (most recent call last)",
      "Cell \u001b[0;32mIn[14], line 37\u001b[0m\n\u001b[1;32m     32\u001b[0m test_loader \u001b[38;5;241m=\u001b[39m torch\u001b[38;5;241m.\u001b[39mutils\u001b[38;5;241m.\u001b[39mdata\u001b[38;5;241m.\u001b[39mDataLoader(dataset\u001b[38;5;241m=\u001b[39mtest_dataset, \n\u001b[1;32m     33\u001b[0m                                           batch_size\u001b[38;5;241m=\u001b[39mbatch_size, \n\u001b[1;32m     34\u001b[0m                                           shuffle\u001b[38;5;241m=\u001b[39m\u001b[38;5;28;01mFalse\u001b[39;00m)\n\u001b[1;32m     36\u001b[0m examples \u001b[38;5;241m=\u001b[39m \u001b[38;5;28miter\u001b[39m(test_loader)\n\u001b[0;32m---> 37\u001b[0m example_data, example_targets \u001b[38;5;241m=\u001b[39m examples\u001b[38;5;241m.\u001b[39mnext()\n\u001b[1;32m     39\u001b[0m \u001b[38;5;28;01mfor\u001b[39;00m i \u001b[38;5;129;01min\u001b[39;00m \u001b[38;5;28mrange\u001b[39m(\u001b[38;5;241m6\u001b[39m):\n\u001b[1;32m     40\u001b[0m     plt\u001b[38;5;241m.\u001b[39msubplot(\u001b[38;5;241m2\u001b[39m,\u001b[38;5;241m3\u001b[39m,i\u001b[38;5;241m+\u001b[39m\u001b[38;5;241m1\u001b[39m)\n",
      "\u001b[0;31mAttributeError\u001b[0m: '_SingleProcessDataLoaderIter' object has no attribute 'next'"
     ]
    }
   ],
   "source": [
    "#Q4\n",
    "import torch\n",
    "import torch.nn as nn\n",
    "import torchvision\n",
    "import torchvision.transforms as transforms\n",
    "import matplotlib.pyplot as plt\n",
    "\n",
    "device = torch.device('cuda' if torch.cuda.is_available() else 'cpu')\n",
    "\n",
    "input_size = 784 # 28x28\n",
    "hidden_size = 500 \n",
    "num_classes = 10\n",
    "num_epochs = 2\n",
    "batch_size = 100\n",
    "learning_rate = 0.001\n",
    "\n",
    "# Import MNIST dataset \n",
    "train_dataset = torchvision.datasets.MNIST(root='./data', \n",
    "                                           train=True, \n",
    "                                           transform=transforms.ToTensor(),  \n",
    "                                           download=True)\n",
    "\n",
    "test_dataset = torchvision.datasets.MNIST(root='./data', \n",
    "                                          train=False, \n",
    "                                          transform=transforms.ToTensor())\n",
    "\n",
    "# Data loader\n",
    "train_loader = torch.utils.data.DataLoader(dataset=train_dataset, \n",
    "                                           batch_size=batch_size, \n",
    "                                           shuffle=True)\n",
    "\n",
    "test_loader = torch.utils.data.DataLoader(dataset=test_dataset, \n",
    "                                          batch_size=batch_size, \n",
    "                                          shuffle=False)\n",
    "\n",
    "examples = iter(test_loader)\n",
    "example_data, example_targets = examples.next()\n",
    "\n",
    "for i in range(6):\n",
    "    plt.subplot(2,3,i+1)\n",
    "    plt.imshow(example_data[i][0], cmap='gray')\n",
    "plt.show()\n",
    "\n"
   ]
  },
  {
   "cell_type": "code",
   "execution_count": 15,
   "id": "4a9816af-b707-461b-abec-db4975ce20f5",
   "metadata": {},
   "outputs": [
    {
     "name": "stdout",
     "output_type": "stream",
     "text": [
      "Epoch [1/2], Step [100/600], Loss: 0.2708\n",
      "Epoch [1/2], Step [200/600], Loss: 0.2518\n",
      "Epoch [1/2], Step [300/600], Loss: 0.2982\n",
      "Epoch [1/2], Step [400/600], Loss: 0.0863\n",
      "Epoch [1/2], Step [500/600], Loss: 0.1519\n",
      "Epoch [1/2], Step [600/600], Loss: 0.2795\n",
      "Epoch [2/2], Step [100/600], Loss: 0.1378\n",
      "Epoch [2/2], Step [200/600], Loss: 0.0869\n",
      "Epoch [2/2], Step [300/600], Loss: 0.0924\n",
      "Epoch [2/2], Step [400/600], Loss: 0.1764\n",
      "Epoch [2/2], Step [500/600], Loss: 0.0803\n",
      "Epoch [2/2], Step [600/600], Loss: 0.0981\n"
     ]
    }
   ],
   "source": [
    "#http://127.0.0.1:8000/# Fully connected neural network with one hidden layer\n",
    "class NeuralNet(nn.Module):\n",
    "    def __init__(self, input_size, hidden_size, num_classes):\n",
    "        super(NeuralNet, self).__init__()\n",
    "        self.input_size = input_size\n",
    "        self.l1 = nn.Linear(input_size, hidden_size) \n",
    "        self.relu = nn.ReLU()\n",
    "        self.l2 = nn.Linear(hidden_size, num_classes)  \n",
    "    \n",
    "    def forward(self, x):\n",
    "        out = self.l1(x)\n",
    "        out = self.relu(out)\n",
    "        out = self.l2(out)\n",
    "        # no activation and no softmax at the end\n",
    "        return out\n",
    "\n",
    "model = NeuralNet(input_size, hidden_size, num_classes).to(device)\n",
    "\n",
    "# Loss and optimizer\n",
    "criterion = nn.CrossEntropyLoss()\n",
    "optimizer = torch.optim.Adam(model.parameters(), lr=learning_rate)\n",
    "\n",
    "# Train the model\n",
    "n_total_steps = len(train_loader)\n",
    "for epoch in range(num_epochs):\n",
    "    for i, (images, labels) in enumerate(train_loader):  \n",
    "        # origin shape: [100, 1, 28, 28]\n",
    "        # resized: [100, 784]\n",
    "        images = images.reshape(-1, 28*28).to(device)\n",
    "        labels = labels.to(device)\n",
    "\n",
    "        # Forward pass\n",
    "        outputs = model(images)\n",
    "        loss = criterion(outputs, labels)\n",
    "\n",
    "        # Backward and optimize\n",
    "        optimizer.zero_grad()\n",
    "        loss.backward()\n",
    "        optimizer.step()\n",
    "\n",
    "        if (i+1) % 100 == 0:\n",
    "            print (f'Epoch [{epoch+1}/{num_epochs}], Step [{i+1}/{n_total_steps}], Loss: {loss.item():.4f}')\n",
    "\n"
   ]
  },
  {
   "cell_type": "code",
   "execution_count": 16,
   "id": "615a28b8-8006-47a4-80bc-c8a2529d1622",
   "metadata": {},
   "outputs": [
    {
     "name": "stdout",
     "output_type": "stream",
     "text": [
      "Accuracy of the network on the 10000 test images: 96.74 %\n"
     ]
    }
   ],
   "source": [
    "# Test the model\n",
    "# In test phase, we don't need to compute gradients (for memory efficiency)\n",
    "with torch.no_grad():\n",
    "    n_correct = 0\n",
    "    n_samples = 0\n",
    "    for images, labels in test_loader:\n",
    "        images = images.reshape(-1, 28*28).to(device)\n",
    "        labels = labels.to(device)\n",
    "        outputs = model(images)\n",
    "        # max returns (value ,index)\n",
    "        _, predicted = torch.max(outputs.data, 1)\n",
    "        n_samples += labels.size(0)\n",
    "        n_correct += (predicted == labels).sum().item()\n",
    "\n",
    "    acc = 100.0 * n_correct / n_samples\n",
    "    print(f'Accuracy of the network on the 10000 test images: {acc} %')"
   ]
  },
  {
   "cell_type": "code",
   "execution_count": 19,
   "id": "ab7741cc-ca07-43e7-be71-a2229ed0ebd8",
   "metadata": {},
   "outputs": [
    {
     "name": "stdout",
     "output_type": "stream",
     "text": [
      "Number of learnable parameters: 109386\n",
      "Epoch [1/5], Loss: 0.39784829948407247\n",
      "Epoch [2/5], Loss: 0.19123166217915474\n",
      "Epoch [3/5], Loss: 0.1370663846145942\n",
      "Epoch [4/5], Loss: 0.1142189361106382\n",
      "Epoch [5/5], Loss: 0.09547872744552267\n",
      "Accuracy on test set: 95.93%\n"
     ]
    },
    {
     "data": {
      "image/png": "[encoded data removed]",
      "text/plain": [
       "<Figure size 640x480 with 2 Axes>"
      ]
     },
     "metadata": {},
     "output_type": "display_data"
    }
   ],
   "source": [
    "#Q4 Alt\n",
    "import torch\n",
    "import torch.nn as nn\n",
    "import torch.optim as optim\n",
    "import torchvision\n",
    "import torchvision.transforms as transforms\n",
    "from sklearn.metrics import confusion_matrix\n",
    "import numpy as np\n",
    "import matplotlib.pyplot as plt\n",
    "\n",
    "# Define transforms to normalize the data\n",
    "transform = transforms.Compose([\n",
    "    transforms.ToTensor(),  # Convert PIL image to tensor\n",
    "    transforms.Normalize((0.5,), (0.5,))  # Normalize the tensor to range [-1, 1]\n",
    "])\n",
    "\n",
    "# Download MNIST dataset and create data loaders\n",
    "trainset = torchvision.datasets.MNIST(root='./data', train=True, download=True, transform=transform)\n",
    "testset = torchvision.datasets.MNIST(root='./data', train=False, download=True, transform=transform)\n",
    "trainloader = torch.utils.data.DataLoader(trainset, batch_size=64, shuffle=True)\n",
    "testloader = torch.utils.data.DataLoader(testset, batch_size=64, shuffle=False)\n",
    "\n",
    "# Define neural network model\n",
    "class FFNN(nn.Module):\n",
    "    def __init__(self, input_size, hidden_size1, hidden_size2, num_classes):\n",
    "        super(FFNN, self).__init__()\n",
    "        self.fc1 = nn.Linear(input_size, hidden_size1)\n",
    "        self.fc2 = nn.Linear(hidden_size1, hidden_size2)\n",
    "        self.fc3 = nn.Linear(hidden_size2, num_classes)\n",
    "    \n",
    "    def forward(self, x):\n",
    "        x = torch.flatten(x, 1)  # Flatten the input tensor\n",
    "        x = torch.relu(self.fc1(x))\n",
    "        x = torch.relu(self.fc2(x))\n",
    "        x = self.fc3(x)\n",
    "        return x\n",
    "\n",
    "# Initialize the model\n",
    "input_size = 28 * 28  # Size of MNIST images\n",
    "hidden_size1 = 128\n",
    "hidden_size2 = 64\n",
    "num_classes = 10  # Digits 0-9\n",
    "model = FFNN(input_size, hidden_size1, hidden_size2, num_classes)\n",
    "\n",
    "# Count the number of learnable parameters\n",
    "num_params = sum(p.numel() for p in model.parameters() if p.requires_grad)\n",
    "print(\"Number of learnable parameters:\", num_params)\n",
    "\n",
    "# Define loss function and optimizer\n",
    "criterion = nn.CrossEntropyLoss()\n",
    "optimizer = optim.Adam(model.parameters(), lr=0.001)\n",
    "\n",
    "# Train the model\n",
    "num_epochs = 5\n",
    "for epoch in range(num_epochs):\n",
    "    model.train()\n",
    "    running_loss = 0.0\n",
    "    for images, labels in trainloader:\n",
    "        # Forward pass\n",
    "        outputs = model(images)\n",
    "        loss = criterion(outputs, labels)\n",
    "        \n",
    "        # Backward pass and optimization\n",
    "        optimizer.zero_grad()\n",
    "        loss.backward()\n",
    "        optimizer.step()\n",
    "        \n",
    "        running_loss += loss.item()\n",
    "    print(f\"Epoch [{epoch+1}/{num_epochs}], Loss: {running_loss / len(trainloader)}\")\n",
    "\n",
    "# Evaluate the model\n",
    "model.eval()\n",
    "correct = 0\n",
    "total = 0\n",
    "predicted_labels = []\n",
    "true_labels = []\n",
    "with torch.no_grad():\n",
    "    for images, labels in testloader:\n",
    "        outputs = model(images)\n",
    "        _, predicted = torch.max(outputs.data, 1)\n",
    "        correct += (predicted == labels).sum().item()\n",
    "        total += labels.size(0)\n",
    "        predicted_labels.extend(predicted.numpy())\n",
    "        true_labels.extend(labels.numpy())\n",
    "\n",
    "print(f\"Accuracy on test set: {100 * correct / total:.2f}%\")\n",
    "\n",
    "# Plot confusion matrix\n",
    "cm = confusion_matrix(true_labels, predicted_labels)\n",
    "plt.imshow(cm, interpolation='nearest', cmap=plt.cm.Blues)\n",
    "plt.title('Confusion matrix')\n",
    "plt.colorbar()\n",
    "tick_marks = np.arange(num_classes)\n",
    "plt.xticks(tick_marks, np.arange(num_classes))\n",
    "plt.yticks(tick_marks, np.arange(num_classes))\n",
    "plt.xlabel('Predicted Label')\n",
    "plt.ylabel('True Label')\n",
    "plt.show()\n"
   ]
  },
  {
   "cell_type": "code",
   "execution_count": null,
   "id": "b13d9769-ccb9-46a7-a251-6f9981d553cc",
   "metadata": {},
   "outputs": [],
   "source": []
  }
 ],
 "metadata": {
  "kernelspec": {
   "display_name": "Python 3 (ipykernel)",
   "language": "python",
   "name": "python3"
  },
  "language_info": {
   "codemirror_mode": {
    "name": "ipython",
    "version": 3
   },
   "file_extension": ".py",
   "mimetype": "text/x-python",
   "name": "python",
   "nbconvert_exporter": "python",
   "pygments_lexer": "ipython3",
   "version": "3.11.7"
  }
 },
 "nbformat": 4,
 "nbformat_minor": 5
}
